{
 "cells": [
  {
   "cell_type": "code",
   "execution_count": 1,
   "id": "ba7bb928",
   "metadata": {},
   "outputs": [],
   "source": [
    "with open(\"./input.txt\", \"r\" ) as f:\n",
    "    input = f.read()\n",
    "\n",
    "limits = {\"red\":12, \"green\":13, \"blue\":14}\n",
    "\n",
    "\n",
    "games = input.split('\\n')"
   ]
  },
  {
   "cell_type": "code",
   "execution_count": 2,
   "id": "8b74bb92",
   "metadata": {},
   "outputs": [
    {
     "name": "stdout",
     "output_type": "stream",
     "text": [
      "2164\n"
     ]
    }
   ],
   "source": [
    "feasible_games = []\n",
    "\n",
    "for game in games:\n",
    "    feasible=True\n",
    "    if len(game)==0:\n",
    "        continue\n",
    "    \n",
    "    game_no, rounds = game.split(\":\")\n",
    "    rounds = rounds.split(\";\")\n",
    "    for round in rounds:\n",
    "        cubes = [i.strip() for i in round.split(',')]\n",
    "        for cube in cubes:\n",
    "            count, color = cube.split(\" \")\n",
    "            if int(count) > limits[color]:\n",
    "                feasible=False\n",
    "                break\n",
    "        if not feasible:\n",
    "            break\n",
    "    \n",
    "\n",
    "\n",
    "\n",
    "    if feasible:\n",
    "        feasible_games.append(int(game_no.split(\" \")[1]))\n",
    "print( sum(feasible_games))"
   ]
  },
  {
   "cell_type": "code",
   "execution_count": 3,
   "id": "827f9dd1",
   "metadata": {},
   "outputs": [
    {
     "name": "stdout",
     "output_type": "stream",
     "text": [
      "69929\n"
     ]
    }
   ],
   "source": [
    "from math import prod\n",
    "\n",
    "powers = []\n",
    "for game in games:\n",
    "    min_cols = {key:0 for key in limits}\n",
    "    \n",
    "    if len(game)==0:\n",
    "        continue\n",
    "    \n",
    "    game_no, rounds = game.split(\":\")\n",
    "    rounds = rounds.split(\";\")\n",
    "    \n",
    "    for round in rounds:\n",
    "        cubes = [i.strip() for i in round.split(',')]\n",
    "        for cube in cubes:\n",
    "            count, color = cube.split(\" \")\n",
    "            if int(count) > min_cols[color]:\n",
    "                min_cols[color] = int(count)\n",
    "        \n",
    "    power = prod([value for (key, value) in min_cols.items()])\n",
    "    powers.append(power)\n",
    "\n",
    "\n",
    "print( sum(powers))\n"
   ]
  }
 ],
 "metadata": {
  "kernelspec": {
   "display_name": "Python 3 (ipykernel)",
   "language": "python",
   "name": "python3"
  },
  "language_info": {
   "codemirror_mode": {
    "name": "ipython",
    "version": 3
   },
   "file_extension": ".py",
   "mimetype": "text/x-python",
   "name": "python",
   "nbconvert_exporter": "python",
   "pygments_lexer": "ipython3",
   "version": "3.11.6"
  }
 },
 "nbformat": 4,
 "nbformat_minor": 5
}
